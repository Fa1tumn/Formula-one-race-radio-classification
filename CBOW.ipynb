{
 "cells": [
  {
   "cell_type": "code",
   "execution_count": 2,
   "id": "76cae504",
   "metadata": {},
   "outputs": [],
   "source": [
    "import numpy as np\n",
    "from collections import defaultdict\n",
    "import pandas as pd"
   ]
  },
  {
   "cell_type": "code",
   "execution_count": 10,
   "id": "0278cf6d",
   "metadata": {},
   "outputs": [
    {
     "name": "stdout",
     "output_type": "stream",
     "text": [
      "[nan, \"Box this lap, we're switching to Plan B.\", 'Box now, box now for softs.', 'Copy that, coming in at the end of this lap.', 'Stay out, stay out, abort pit stop.', 'Pit confirm, pit confirm.', 'Box opposite to what Leclerc does this lap.', \"Let's undercut Hamilton, box now, box now.\", 'Safety car deployed, box now for softs.', 'Box this lap, box box box.', 'Box now, we need to react to Verstappen.', 'Box now for intermediates, rain is getting heavier.', \"We'll pit in two laps, prepare for a front wing change.\", 'Virtual safety car, box now, box now.', 'The undercut is powerful here, box this lap.', 'Staying out, staying out, this tire has more life.', 'Pit next lap for the prime tire, acknowledge.', \"Box when you feel it's right, your call on slicks.\", \"Box this lap, we need to cover Alonso's stop.\", 'Pit now for mediums, we have a gap in traffic.', 'Box box box, slow puncture suspected.', 'Rear tire pressures dropping, keep an eye on it.', 'Engine temperatures rising, we need to manage this.', 'Battery state is optimal, you can use overtake button.', 'Front left brake temperature critical, lift and coast into turn 1.', \"MGUK harvesting is limited, we're investigating.\", 'Loss of hydraulic pressure, use minimal steering input.', 'Oil temperature stable now, good job managing it.', 'Fuel flow is inconsistent, we may need to switch sensors.', \"DRS failure confirmed, we can't fix it during the race.\", 'Wind direction changed, expect more oversteer in turn 7.', 'Cooling is marginal but under control for now.', 'Water pressure dropping slightly, please minimize kerb usage.', 'ERS deployment optimized for this lap, full power available.', 'Front wing damage detected, but aero figures still acceptable.', 'Suspension is holding up after that bump, data looks okay.', 'Power unit temperature back in the window, good management.', 'Tire wear 10% higher than predicted, adjust your driving.', 'Brake balance shift recommended, try forward two clicks.', \"We've lost some downforce, possibly floor damage.\", 'Battery temperature rising, we need to manage energy deployment.', 'These blue flags are ridiculous!', 'The balance is terrible, so much understeer.', 'Tell him to give me more space! That was dangerous.', 'What are we doing? This strategy is not working!', 'Why did you bring me in? The tires were still good!', 'This traffic is costing us so much time!', \"He's blocking me! Ask race control to look at it.\", \"I can't follow in this dirty air, the car is overheating.\", \"The brakes are inconsistent, I can't trust them.\", \"This engine mode is too slow, I'm a sitting duck on the straights.\", \"What is the guy in front doing? He's all over the place!\", \"The rear is so nervous on corner entry, I can't push.\", 'These kerbs are destroying the floor, we need to avoid them.', \"I'm getting no traction out of turn 4, something's wrong.\", \"Can I get a drink? The button isn't working.\", 'Why are we on these tires? Everyone else is on softs!', \"There's so much porpoising down the straight, it's unbearable.\", 'Can we try something different with the strategy?', 'This penalty is unfair! I left enough space!', 'I need more information about the gap behind, please.', 'The gap to P5 is 1.2 seconds and closing.', 'Push now, we need 3 purple sectors.', 'We need to manage these tires to the end, target lap time 1:22.5.', 'Pit window is open, what do you think about the tires?', \"Stay out, Verstappen just pitted, let's overcut.\", \"We're going long on this stint, target plus 5 laps.\", \"Track position is critical here, we'll go to the end on these tires.\", 'Gap to P2 is stable at 4.3 seconds, manage the pace.', \"Blue flags for Alonso behind, don't lose time.\", \"Rain expected in 8 minutes, we're staying on slicks for now.\", 'DRS is enabled, use it on the main straight.', \"We're switching to Plan C, confirm you understand.\", 'Attack mode now, use all available battery.', 'Hold position, team orders, I repeat, hold position.', 'Fuel saving mode delta, target minus 0.2 per lap.', 'VSC ending, prepare to push.', 'We need to extend this stint by 2 laps to cover Perez.', \"The medium compound should last 25 laps, we're targeting 28.\", 'Use overtake button on the exit of turn 11 for best effect.', 'Defending position is priority, focus on exit speed.', 'Great job! That was a perfect lap!', \"Keep pushing, you're the fastest car on track right now.\", \"Brilliant overtake! Now let's catch the next one.\", \"You're doing a fantastic job managing these tires.\", \"That's exactly what we needed, perfect execution.\", \"Stay focused, you're driving beautifully today.\", 'We believe in you, just keep it clean to the finish.', \"Amazing pace in these conditions, you're making the difference.\", \"Outstanding first sector, you've found something there!\", \"Don't give up, we can still fight for points here.\", 'Your feedback is really helping us improve the car, thank you.', 'That defensive driving was textbook, well done.', \"You're extracting everything from the package, the team is proud.\", 'Keep your head down, this strategy will pay off in the end.', 'Perfect timing on that overtake, you made it look easy.', \"Trust your instincts, they're serving you well today.\", \"The whole team is behind you, let's bring this home.\", \"You're in the zone today, fantastic rhythm.\", \"The gap is coming down, you're reeling them in!\", \"Controlled, precise, and fast - that's what we like to see.\", nan, \"Box this lap, we're switching to Plan B.\", 'Copy that, coming in at the end of this lap.', 'The gap to P5 is 1.2 seconds and closing.', 'Push now, we need 3 purple sectors.', 'We need to manage these tires to the end, target lap time 1:22.5.', 'Pit window is open, what do you think about the tires?', \"Let's undercut Hamilton, box now, box now.\", \"Stay out, Verstappen just pitted, let's overcut.\", \"We're going long on this stint, target plus 5 laps.\", 'Safety car deployed, box now for softs.', \"Track position is critical here, we'll go to the end on these tires.\", 'Gap to P2 is stable at 4.3 seconds, manage the pace.', \"Blue flags for Alonso behind, don't lose time.\", \"Rain expected in 8 minutes, we're staying on slicks for now.\", 'DRS is enabled, use it on the main straight.', \"We're switching to Plan C, confirm you understand.\", 'Attack mode now, use all available battery.', 'Hold position, team orders, I repeat, hold position.', 'Fuel saving mode delta, target minus 0.2 per lap.', 'VSC ending, prepare to push.', 'These blue flags are ridiculous!', 'The balance is terrible, so much understeer.', 'Tell him to give me more space! That was dangerous.', 'What are we doing? This strategy is not working!', 'Why did you bring me in? The tires were still good!', 'This traffic is costing us so much time!', \"He's blocking me! Ask race control to look at it.\", \"I can't follow in this dirty air, the car is overheating.\", \"The brakes are inconsistent, I can't trust them.\", \"This engine mode is too slow, I'm a sitting duck on the straights.\", \"What is the guy in front doing? He's all over the place!\", \"The rear is so nervous on corner entry, I can't push.\", 'These kerbs are destroying the floor, we need to avoid them.', \"I'm getting no traction out of turn 4, something's wrong.\", 'The team radio is cutting out, I can barely hear you.', 'Why are we on these tires? Everyone else is on softs!', \"There's so much porpoising down the straight, it's unbearable.\", 'The car feels like a boat in these wet conditions.', 'This penalty is unfair! I left enough space!', 'The backmarkers are not respecting blue flags at all!', 'Rear tire pressures dropping, keep an eye on it.', 'Engine temperatures rising, we need to manage this.', 'Battery state is optimal, you can use overtake button.', 'Front left brake temperature critical, lift and coast into turn 1.', \"MGUK harvesting is limited, we're investigating.\", 'Loss of hydraulic pressure, use minimal steering input.', 'Oil temperature stable now, good job managing it.', 'Fuel flow is inconsistent, we may need to switch sensors.', \"DRS failure confirmed, we can't fix it during the race.\", 'Wind direction changed, expect more oversteer in turn 7.', 'Cooling is marginal but under control for now.', 'Water pressure dropping slightly, please minimize kerb usage.', 'ERS deployment optimized for this lap, full power available.', 'Front wing damage detected, but aero figures still acceptable.', 'Suspension is holding up after that bump, data looks okay.', 'Power unit temperature back in the window, good management.', 'Tire wear 10% higher than predicted, adjust your driving.', 'Brake balance shift recommended, try forward two clicks.', \"We've lost some downforce, possibly floor damage.\", 'Battery temperature rising, we need to manage energy deployment.', 'Great job! That was a perfect lap!', \"Keep pushing, you're the fastest car on track right now.\", \"Brilliant overtake! Now let's catch the next one.\", \"You're doing a fantastic job managing these tires.\", \"That's exactly what we needed, perfect execution.\", \"Stay focused, you're driving beautifully today.\", 'We believe in you, just keep it clean to the finish.', \"Amazing pace in these conditions, you're making the difference.\", \"Outstanding first sector, you've found something there!\", \"Don't give up, we can still fight for points here.\", 'Your feedback is really helping us improve the car, thank you.', 'That defensive driving was textbook, well done.', \"You're extracting everything from the package, the team is proud.\", 'Keep your head down, this strategy will pay off in the end.', 'Perfect timing on that overtake, you made it look easy.', \"Trust your instincts, they're serving you well today.\", \"The whole team is behind you, let's bring this home.\", \"You're in the zone today, fantastic rhythm.\", \"The gap is coming down, you're reeling them in!\", \"Controlled, precise, and fast - that's what we like to see.\", 'Spotters reporting rain at turn 9, be prepared.', 'Box opposite to what Leclerc does this lap.', 'We need to extend this stint by 2 laps to cover Perez.', \"The medium compound should last 25 laps, we're targeting 28.\", 'Use overtake button on the exit of turn 11 for best effect.', 'These vibrations are getting worse, I might not finish the race!', \"There's something wrong with the power delivery, very inconsistent.\", \"I can't believe we're staying out on these worn tires!\", \"This is the worst handling I've experienced all season.\", 'Everyone else got fresh tires under VSC except us!', 'Headwind on the main straight, top speed reduced by 3 kph.', 'Torque delivery smoother after mode change, good improvement.', 'Front tire degradation higher than expected, especially right side.', 'Gearbox temperatures stabilizing, shifts should feel better now.', 'Small water leak detected, we need to monitor temperatures closely.', \"You're outperforming the car today, absolutely stellar drive.\", 'That lap time puts you firmly in contention, beautiful work.', 'The consistency of your driving is impressive, keep it going.', \"Perfect positioning through sector two, you've mastered it.\", 'Everyone in the garage is on their feet after that performance!', nan]\n",
      "[nan, '진입 명령', '진입 명령', '진입 명령', '진입 명령', '진입 명령', '진입 명령', '진입 명령', '진입 명령', '진입 명령', '진입 명령', '진입 명령', '진입 명령', '진입 명령', '진입 명령', '진입 명령', '진입 명령', '진입 명령', '진입 명령', '진입 명령', '진입 명령', '차량 상태', '차량 상태', '차량 상태', '차량 상태', '차량 상태', '차량 상태', '차량 상태', '차량 상태', '차량 상태', '차량 상태', '차량 상태', '차량 상태', '차량 상태', '차량 상태', '차량 상태', '차량 상태', '차량 상태', '차량 상태', '차량 상태', '차량 상태', '불만/요청', '불만/요청', '불만/요청', '불만/요청', '불만/요청', '불만/요청', '불만/요청', '불만/요청', '불만/요청', '불만/요청', '불만/요청', '불만/요청', '불만/요청', '불만/요청', '불만/요청', '불만/요청', '불만/요청', '불만/요청', '불만/요청', '불만/요청', '전략/전술', '전략/전술', '전략/전술', '전략/전술', '전략/전술', '전략/전술', '전략/전술', '전략/전술', '전략/전술', '전략/전술', '전략/전술', '전략/전술', '전략/전술', '전략/전술', '전략/전술', '전략/전술', '전략/전술', '전략/전술', '전략/전술', '전략/전술', '격려', '격려', '격려', '격려', '격려', '격려', '격려', '격려', '격려', '격려', '격려', '격려', '격려', '격려', '격려', '격려', '격려', '격려', '격려', '격려', nan, '전략', '전략', '전략', '전략', '전략', '전략', '전략', '전략', '전략', '전략', '전략', '전략', '전략', '전략', '전략', '전략', '전략', '전략', '전략', '전략', '불만', '불만', '불만', '불만', '불만', '불만', '불만', '불만', '불만', '불만', '불만', '불만', '불만', '불만', '불만', '불만', '불만', '불만', '불만', '불만', '차량 상태', '차량 상태', '차량 상태', '차량 상태', '차량 상태', '차량 상태', '차량 상태', '차량 상태', '차량 상태', '차량 상태', '차량 상태', '차량 상태', '차량 상태', '차량 상태', '차량 상태', '차량 상태', '차량 상태', '차량 상태', '차량 상태', '차량 상태', '격려', '격려', '격려', '격려', '격려', '격려', '격려', '격려', '격려', '격려', '격려', '격려', '격려', '격려', '격려', '격려', '격려', '격려', '격려', '격려', '전략', '전략', '전략', '전략', '전략', '불만', '불만', '불만', '불만', '불만', '차량 상태', '차량 상태', '차량 상태', '차량 상태', '차량 상태', '격려', '격려', '격려', '격려', '격려', nan]\n"
     ]
    }
   ],
   "source": [
    "data = pd.read_csv(\"data.csv\")\n",
    "\n",
    "texts = data[\"Message\"].tolist()\n",
    "labels = data[\"Category\"].tolist()\n",
    "print(texts)\n",
    "print(labels)"
   ]
  },
  {
   "cell_type": "code",
   "execution_count": 9,
   "id": "0243d413",
   "metadata": {},
   "outputs": [
    {
     "ename": "AttributeError",
     "evalue": "'float' object has no attribute 'lower'",
     "output_type": "error",
     "traceback": [
      "\u001b[1;31m---------------------------------------------------------------------------\u001b[0m",
      "\u001b[1;31mAttributeError\u001b[0m                            Traceback (most recent call last)",
      "Cell \u001b[1;32mIn[9], line 1\u001b[0m\n\u001b[1;32m----> 1\u001b[0m tokenized \u001b[38;5;241m=\u001b[39m \u001b[43m[\u001b[49m\u001b[43mtext\u001b[49m\u001b[38;5;241;43m.\u001b[39;49m\u001b[43mlower\u001b[49m\u001b[43m(\u001b[49m\u001b[43m)\u001b[49m\u001b[38;5;241;43m.\u001b[39;49m\u001b[43msplit\u001b[49m\u001b[43m(\u001b[49m\u001b[43m)\u001b[49m\u001b[43m \u001b[49m\u001b[38;5;28;43;01mfor\u001b[39;49;00m\u001b[43m \u001b[49m\u001b[43mtext\u001b[49m\u001b[43m \u001b[49m\u001b[38;5;129;43;01min\u001b[39;49;00m\u001b[43m \u001b[49m\u001b[43mtexts\u001b[49m\u001b[43m]\u001b[49m\n\u001b[0;32m      2\u001b[0m word2idx \u001b[38;5;241m=\u001b[39m {}\n\u001b[0;32m      3\u001b[0m idx2word \u001b[38;5;241m=\u001b[39m {}\n",
      "Cell \u001b[1;32mIn[9], line 1\u001b[0m, in \u001b[0;36m<listcomp>\u001b[1;34m(.0)\u001b[0m\n\u001b[1;32m----> 1\u001b[0m tokenized \u001b[38;5;241m=\u001b[39m [\u001b[43mtext\u001b[49m\u001b[38;5;241;43m.\u001b[39;49m\u001b[43mlower\u001b[49m()\u001b[38;5;241m.\u001b[39msplit() \u001b[38;5;28;01mfor\u001b[39;00m text \u001b[38;5;129;01min\u001b[39;00m texts]\n\u001b[0;32m      2\u001b[0m word2idx \u001b[38;5;241m=\u001b[39m {}\n\u001b[0;32m      3\u001b[0m idx2word \u001b[38;5;241m=\u001b[39m {}\n",
      "\u001b[1;31mAttributeError\u001b[0m: 'float' object has no attribute 'lower'"
     ]
    }
   ],
   "source": [
    "tokenized = [text.lower().split() for text in texts]\n",
    "word2idx = {}\n",
    "idx2word = {}\n",
    "idx = 0\n",
    "for sentence in tokenized:\n",
    "    for word in sentence:\n",
    "        if word not in word2idx:\n",
    "            word2idx[word] = idx\n",
    "            idx2word[idx] = word\n",
    "            idx += 1\n",
    "vocab_size = len(word2idx)"
   ]
  },
  {
   "cell_type": "code",
   "execution_count": 6,
   "id": "fa2ac4e2",
   "metadata": {},
   "outputs": [],
   "source": [
    "label2idx = {\n",
    "    \"진입 명령\": 0,\n",
    "    \"차량 상태\": 1,\n",
    "    \"불만/요청\": 2,\n",
    "    \"전략/전술\": 3,\n",
    "    \"격려\": 4\n",
    "}\n",
    "idx2label = {v: k for k, v in label2idx.items()}"
   ]
  },
  {
   "cell_type": "code",
   "execution_count": 7,
   "id": "9ec311ef",
   "metadata": {},
   "outputs": [],
   "source": [
    "X_data = []\n",
    "y_data = []\n",
    "\n",
    "for sentence, label in zip(tokenized, labels):\n",
    "    context_vec = np.zeros(vocab_size)\n",
    "    for word in sentence:\n",
    "        context_vec[word2idx[word]] += 1\n",
    "    X_data.append(context_vec / len(sentence))\n",
    "    y_data.append(label)\n",
    "\n",
    "X = np.array(X_data)\n",
    "y = [label2idx[label] for label in labels]\n",
    "num_classes = len(set(y))"
   ]
  },
  {
   "cell_type": "code",
   "execution_count": 8,
   "id": "21221b24",
   "metadata": {},
   "outputs": [],
   "source": [
    "embedding_dim = 16\n",
    "W_embed = np.random.randn(vocab_size, embedding_dim) * 0.01  # 단어 임베딩\n",
    "W_out = np.random.randn(embedding_dim, num_classes) * 0.01   # 출력 가중치\n",
    "b_out = np.zeros((1, num_classes))\n",
    "learning_rate = 0.1"
   ]
  },
  {
   "cell_type": "code",
   "execution_count": 14,
   "id": "f8bcaed2",
   "metadata": {},
   "outputs": [],
   "source": [
    "def softmax(z):\n",
    "    exp_z = np.exp(z - np.max(z, axis=1, keepdims=True))\n",
    "    return exp_z / np.sum(exp_z, axis=1, keepdims=True)\n",
    "\n",
    "def cross_entropy(probs, y_true):\n",
    "    batch_size = probs.shape[0]\n",
    "    log_probs = np.log(probs + 1e-9)\n",
    "    loss = -log_probs[range(batch_size), y_true].mean()\n",
    "    return loss"
   ]
  },
  {
   "cell_type": "code",
   "execution_count": 16,
   "id": "4ae29f20",
   "metadata": {},
   "outputs": [],
   "source": [
    "def train_test_split(X, y, test_size=0.2, seed=42):\n",
    "    np.random.seed(seed)\n",
    "    indices = np.arange(len(X))\n",
    "    np.random.shuffle(indices)\n",
    "    split = int(len(X) * (1 - test_size))\n",
    "    train_idx, test_idx = indices[:split], indices[split:]\n",
    "    return (\n",
    "        np.array([X[i] for i in train_idx]),  # Convert to NumPy array\n",
    "        np.array([X[i] for i in test_idx]),  # Convert to NumPy array\n",
    "        [y[i] for i in train_idx],\n",
    "        [y[i] for i in test_idx]\n",
    "    )"
   ]
  },
  {
   "cell_type": "code",
   "execution_count": 18,
   "id": "8fb38954",
   "metadata": {},
   "outputs": [
    {
     "name": "stdout",
     "output_type": "stream",
     "text": [
      "Epoch 0 | Loss: 1.5590\n",
      "Epoch 10 | Loss: 1.5581\n",
      "Epoch 20 | Loss: 1.5571\n",
      "Epoch 30 | Loss: 1.5561\n",
      "Epoch 40 | Loss: 1.5550\n",
      "Epoch 50 | Loss: 1.5537\n",
      "Epoch 60 | Loss: 1.5521\n",
      "Epoch 70 | Loss: 1.5502\n",
      "Epoch 80 | Loss: 1.5478\n",
      "Epoch 90 | Loss: 1.5448\n"
     ]
    }
   ],
   "source": [
    "X_train, X_test, y_train, y_test = train_test_split(X, y)\n",
    "epochs = 100\n",
    "\n",
    "for epoch in range(epochs):\n",
    "    # 1) 임베딩 평균화\n",
    "    X_embed = np.dot(X_train, W_embed)  # shape: (batch_size, embedding_dim)\n",
    "\n",
    "    # 2) 출력 계산\n",
    "    logits = np.dot(X_embed, W_out) + b_out\n",
    "    probs = softmax(logits)\n",
    "\n",
    "    # 3) 손실\n",
    "    loss = cross_entropy(probs, y_train)\n",
    "\n",
    "    # 4) 역전파\n",
    "    N = X_train.shape[0]\n",
    "    one_hot = np.zeros_like(probs)\n",
    "    one_hot[np.arange(N), y_train] = 1\n",
    "    dL_dz = (probs - one_hot) / N\n",
    "\n",
    "    dW_out = np.dot(X_embed.T, dL_dz)\n",
    "    db_out = np.sum(dL_dz, axis=0, keepdims=True)\n",
    "\n",
    "    dX_embed = np.dot(dL_dz, W_out.T)  # shape: (N, embedding_dim)\n",
    "    dW_embed = np.dot(X_train.T, dX_embed)  # shape: (vocab_size, embedding_dim)\n",
    "\n",
    "    # 5) 파라미터 업데이트\n",
    "    W_out -= learning_rate * dW_out\n",
    "    b_out -= learning_rate * db_out\n",
    "    W_embed -= learning_rate * dW_embed\n",
    "\n",
    "    if epoch % 10 == 0:\n",
    "        print(f\"Epoch {epoch} | Loss: {loss:.4f}\")"
   ]
  },
  {
   "cell_type": "code",
   "execution_count": 26,
   "id": "f3c3d8de",
   "metadata": {},
   "outputs": [
    {
     "name": "stdout",
     "output_type": "stream",
     "text": [
      "\n",
      "테스트 정확도: 1.0\n"
     ]
    }
   ],
   "source": [
    "test_logits = np.dot(X_test, W_embed) @ W_out + b_out  # Forward pass\n",
    "test_probs = softmax(test_logits)  # Softmax to get probabilities\n",
    "preds = np.argmax(test_probs, axis=1)  # Predicted class\n",
    "acc = np.mean(preds == y_test)  # Accuracy calculation\n",
    "\n",
    "print(\"\\n테스트 정확도:\", acc)"
   ]
  },
  {
   "cell_type": "code",
   "execution_count": 23,
   "id": "6c1c226a",
   "metadata": {},
   "outputs": [
    {
     "name": "stdout",
     "output_type": "stream",
     "text": [
      "Text: \"Push harder now\" | Predicted Label: \"전략/전술\"\n",
      "Text: \"Engine is failing\" | Predicted Label: \"차량 상태\"\n"
     ]
    }
   ],
   "source": [
    "# new data 예측\n",
    "new_texts = [\n",
    "    \"Push harder now\", \n",
    "    \"Engine is failing\"\n",
    "]\n",
    "\n",
    "# 1. 分词并向量化\n",
    "new_tokenized = [text.lower().split() for text in new_texts]\n",
    "new_X_data = []\n",
    "\n",
    "for sentence in new_tokenized:\n",
    "    context_vec = np.zeros(vocab_size)\n",
    "    for word in sentence:\n",
    "        if word in word2idx:  # if in vocabulary\n",
    "            context_vec[word2idx[word]] += 1\n",
    "    new_X_data.append(context_vec / len(sentence))\n",
    "\n",
    "new_X = np.array(new_X_data)\n",
    "\n",
    "new_X_embed = np.dot(new_X, W_embed)\n",
    "\n",
    "new_logits = np.dot(new_X_embed, W_out) + b_out\n",
    "new_probs = softmax(new_logits)\n",
    "\n",
    "new_y_pred = np.argmax(new_probs, axis=1)\n",
    "\n",
    "new_y_pred_labels = [idx2label[idx] for idx in new_y_pred]\n",
    "\n",
    "for text, label in zip(new_texts, new_y_pred_labels):\n",
    "    print(f\"Text: \\\"{text}\\\" | Predicted Label: \\\"{label}\\\"\")"
   ]
  },
  {
   "cell_type": "code",
   "execution_count": 24,
   "id": "3e775060",
   "metadata": {},
   "outputs": [
    {
     "name": "stdout",
     "output_type": "stream",
     "text": [
      "Model saved successfully!\n"
     ]
    }
   ],
   "source": [
    "import pickle\n",
    "\n",
    "model_data = {\n",
    "    \"W_embed\": W_embed,\n",
    "    \"W_out\": W_out,\n",
    "    \"b_out\": b_out,\n",
    "    \"word2idx\": word2idx,\n",
    "    \"idx2label\": idx2label,\n",
    "    \"vocab_size\": vocab_size,\n",
    "    \"embedding_dim\": embedding_dim,\n",
    "    \"num_classes\": num_classes\n",
    "}\n",
    "\n",
    "with open(\"cbow_model.pkl\", \"wb\") as f:\n",
    "    pickle.dump(model_data, f)\n",
    "\n",
    "print(\"Model saved successfully!\")"
   ]
  }
 ],
 "metadata": {
  "kernelspec": {
   "display_name": "aimath",
   "language": "python",
   "name": "python3"
  },
  "language_info": {
   "codemirror_mode": {
    "name": "ipython",
    "version": 3
   },
   "file_extension": ".py",
   "mimetype": "text/x-python",
   "name": "python",
   "nbconvert_exporter": "python",
   "pygments_lexer": "ipython3",
   "version": "3.11.8"
  }
 },
 "nbformat": 4,
 "nbformat_minor": 5
}
