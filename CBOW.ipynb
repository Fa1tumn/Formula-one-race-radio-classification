{
 "cells": [
  {
   "cell_type": "code",
   "execution_count": 3,
   "id": "76cae504",
   "metadata": {},
   "outputs": [],
   "source": [
    "import numpy as np\n",
    "from collections import defaultdict\n",
    "import matplotlib.pyplot as plt"
   ]
  },
  {
   "cell_type": "code",
   "execution_count": 4,
   "id": "0278cf6d",
   "metadata": {},
   "outputs": [],
   "source": [
    "# 1. 데이터셋 (간단 예시)\n",
    "texts = [\n",
    "    \"Box box box\",\n",
    "    \"My tyres are gone\",\n",
    "    \"Tell him to get out\",\n",
    "    \"We need to push\",\n",
    "    \"Engine is overheating\",\n",
    "    \"Good job keep pushing\",\n",
    "    \"I'm losing power\",\n",
    "    \"Switching to plan B\",\n",
    "    \"Push now push now\",\n",
    "    \"Let me race please\"\n",
    "]\n",
    "labels = [\n",
    "    \"진입 명령\", \"차량 상태\", \"불만/요청\", \"전략/전술\", \"차량 상태\",\n",
    "    \"격려\", \"차량 상태\", \"전략/전술\", \"전략/전술\", \"불만/요청\"\n",
    "]"
   ]
  },
  {
   "cell_type": "code",
   "execution_count": null,
   "id": "0243d413",
   "metadata": {},
   "outputs": [],
   "source": []
  }
 ],
 "metadata": {
  "kernelspec": {
   "display_name": "aimath",
   "language": "python",
   "name": "python3"
  },
  "language_info": {
   "codemirror_mode": {
    "name": "ipython",
    "version": 3
   },
   "file_extension": ".py",
   "mimetype": "text/x-python",
   "name": "python",
   "nbconvert_exporter": "python",
   "pygments_lexer": "ipython3",
   "version": "3.11.8"
  }
 },
 "nbformat": 4,
 "nbformat_minor": 5
}
