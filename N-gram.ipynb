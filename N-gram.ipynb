{
 "cells": [
  {
   "cell_type": "code",
   "execution_count": 5,
   "id": "6cafd29c",
   "metadata": {},
   "outputs": [],
   "source": [
    "import numpy as np\n",
    "from collections import defaultdict\n",
    "from itertools import islice\n",
    "import re"
   ]
  },
  {
   "cell_type": "code",
   "execution_count": 2,
   "id": "733890c5",
   "metadata": {},
   "outputs": [],
   "source": [
    "# 1. 데이터셋 (간단 예시)\n",
    "texts = [\n",
    "    \"Box box box\",\n",
    "    \"My tyres are gone\",\n",
    "    \"Tell him to get out\",\n",
    "    \"We need to push\",\n",
    "    \"Engine is overheating\",\n",
    "    \"Good job keep pushing\",\n",
    "    \"I'm losing power\",\n",
    "    \"Switching to plan B\",\n",
    "    \"Push now push now\",\n",
    "    \"Let me race please\"\n",
    "]\n",
    "labels = [\n",
    "    \"진입 명령\", \"차량 상태\", \"불만/요청\", \"전략/전술\", \"차량 상태\",\n",
    "    \"격려\", \"차량 상태\", \"전략/전술\", \"전략/전술\", \"불만/요청\"\n",
    "]"
   ]
  },
  {
   "cell_type": "code",
   "execution_count": 6,
   "id": "0c21b417",
   "metadata": {},
   "outputs": [],
   "source": [
    "def generate_ngrams(text, n=2):\n",
    "    \"\"\"Generate n-grams from a given text.\"\"\"\n",
    "    tokens = re.findall(r'\\b\\w+\\b', text.lower())\n",
    "    return [' '.join(tokens[i:i+n]) for i in range(len(tokens)-n+1)]"
   ]
  },
  {
   "cell_type": "code",
   "execution_count": 7,
   "id": "5167a7d1",
   "metadata": {},
   "outputs": [],
   "source": [
    "def build_vocab(texts, ngram_range=(1, 2)):\n",
    "    \"\"\"Build vocabulary for n-grams.\"\"\"\n",
    "    vocab = defaultdict(int)\n",
    "    for text in texts:\n",
    "        for n in range(ngram_range[0], ngram_range[1] + 1):\n",
    "            ngrams = generate_ngrams(text, n)\n",
    "            for ngram in ngrams:\n",
    "                vocab[ngram] += 1\n",
    "    return {word: idx for idx, word in enumerate(vocab.keys())}"
   ]
  },
  {
   "cell_type": "code",
   "execution_count": 8,
   "id": "34fe08c9",
   "metadata": {},
   "outputs": [],
   "source": [
    "def vectorize_texts(texts, vocab, ngram_range=(1, 2)):\n",
    "    \"\"\"Convert texts to vectorized form using the vocabulary.\"\"\"\n",
    "    vectors = []\n",
    "    for text in texts:\n",
    "        vec = np.zeros(len(vocab))\n",
    "        for n in range(ngram_range[0], ngram_range[1] + 1):\n",
    "            ngrams = generate_ngrams(text, n)\n",
    "            for ngram in ngrams:\n",
    "                if ngram in vocab:\n",
    "                    vec[vocab[ngram]] += 1\n",
    "        vectors.append(vec)\n",
    "    return np.array(vectors)"
   ]
  },
  {
   "cell_type": "code",
   "execution_count": 9,
   "id": "155431c5",
   "metadata": {},
   "outputs": [],
   "source": [
    "# Build vocabulary and vectorize texts\n",
    "vocab = build_vocab(texts, ngram_range=(1, 2))\n",
    "X = vectorize_texts(texts, vocab, ngram_range=(1, 2))\n",
    "\n",
    "# Encode labels\n",
    "label2idx = {label: idx for idx, label in enumerate(set(labels))}\n",
    "y = np.array([label2idx[label] for label in labels])\n",
    "num_classes = len(label2idx)"
   ]
  },
  {
   "cell_type": "code",
   "execution_count": 10,
   "id": "a6ae58b2",
   "metadata": {},
   "outputs": [],
   "source": [
    "def train_test_split(X, y, test_size=0.3, seed=42):\n",
    "    np.random.seed(seed)\n",
    "    indices = np.arange(len(X))\n",
    "    np.random.shuffle(indices)\n",
    "    split = int(len(X) * (1 - test_size))\n",
    "    train_idx, test_idx = indices[:split], indices[split:]\n",
    "    return X[train_idx], X[test_idx], y[train_idx], y[test_idx]\n",
    "\n",
    "X_train, X_test, y_train, y_test = train_test_split(X, y, test_size=0.3)"
   ]
  },
  {
   "cell_type": "code",
   "execution_count": 11,
   "id": "5d83df20",
   "metadata": {},
   "outputs": [],
   "source": [
    "def softmax(z):\n",
    "    exp_z = np.exp(z - np.max(z, axis=1, keepdims=True))\n",
    "    return exp_z / np.sum(exp_z, axis=1, keepdims=True)\n",
    "\n",
    "def cross_entropy(probs, y_true):\n",
    "    batch_size = probs.shape[0]\n",
    "    log_probs = np.log(probs + 1e-9)\n",
    "    loss = -log_probs[range(batch_size), y_true].mean()\n",
    "    return loss"
   ]
  },
  {
   "cell_type": "code",
   "execution_count": 12,
   "id": "e6f25d2e",
   "metadata": {},
   "outputs": [],
   "source": [
    "input_dim = X_train.shape[1]\n",
    "W = np.random.randn(input_dim, num_classes) * 0.01\n",
    "b = np.zeros((1, num_classes))\n",
    "learning_rate = 0.1\n"
   ]
  },
  {
   "cell_type": "code",
   "execution_count": 13,
   "id": "f73d942b",
   "metadata": {},
   "outputs": [
    {
     "name": "stdout",
     "output_type": "stream",
     "text": [
      "Epoch 0: Loss = 1.6174\n",
      "Epoch 10: Loss = 0.8532\n",
      "Epoch 20: Loss = 0.5036\n",
      "Epoch 30: Loss = 0.3346\n",
      "Epoch 40: Loss = 0.2428\n",
      "Epoch 50: Loss = 0.1876\n",
      "Epoch 60: Loss = 0.1516\n",
      "Epoch 70: Loss = 0.1266\n",
      "Epoch 80: Loss = 0.1083\n",
      "Epoch 90: Loss = 0.0945\n"
     ]
    }
   ],
   "source": [
    "epochs = 100\n",
    "for epoch in range(epochs):\n",
    "    logits = np.dot(X_train, W) + b\n",
    "    probs = softmax(logits)\n",
    "    \n",
    "    loss = cross_entropy(probs, y_train)\n",
    "\n",
    "    # 수동 gradient 계산\n",
    "    N = X_train.shape[0]\n",
    "    one_hot = np.zeros_like(probs)\n",
    "    one_hot[np.arange(N), y_train] = 1\n",
    "    dL_dz = (probs - one_hot) / N  # softmax + cross entropy gradient\n",
    "\n",
    "    # Weight & bias gradients\n",
    "    dW = np.dot(X_train.T, dL_dz)\n",
    "    db = np.sum(dL_dz, axis=0, keepdims=True)\n",
    "\n",
    "    # 경사하강법 업데이트\n",
    "    W -= learning_rate * dW\n",
    "    b -= learning_rate * db\n",
    "\n",
    "    if epoch % 10 == 0:\n",
    "        print(f\"Epoch {epoch}: Loss = {loss:.4f}\")"
   ]
  }
 ],
 "metadata": {
  "kernelspec": {
   "display_name": "aimath",
   "language": "python",
   "name": "python3"
  },
  "language_info": {
   "codemirror_mode": {
    "name": "ipython",
    "version": 3
   },
   "file_extension": ".py",
   "mimetype": "text/x-python",
   "name": "python",
   "nbconvert_exporter": "python",
   "pygments_lexer": "ipython3",
   "version": "3.11.8"
  }
 },
 "nbformat": 4,
 "nbformat_minor": 5
}
