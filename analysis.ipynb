{
 "cells": [
  {
   "cell_type": "code",
   "execution_count": 13,
   "id": "9947f122",
   "metadata": {},
   "outputs": [],
   "source": [
    "import pickle\n",
    "import matplotlib.pyplot as plt\n",
    "import numpy as np\n",
    "import re"
   ]
  },
  {
   "cell_type": "code",
   "execution_count": 2,
   "id": "9dd62fc6",
   "metadata": {},
   "outputs": [],
   "source": [
    "with open(\"cbow_model.pkl\", \"rb\") as f:\n",
    "    cbow_model = pickle.load(f)\n",
    "with open(\"ngram_model.pkl\", \"rb\") as f:\n",
    "    ngram_model = pickle.load(f)"
   ]
  },
  {
   "cell_type": "code",
   "execution_count": null,
   "id": "493eb4ba",
   "metadata": {},
   "outputs": [
    {
     "name": "stdout",
     "output_type": "stream",
     "text": [
      "{'차량 조작 지시': 0, '차량 상태 피드백': 1, '타이어 관련': 2, '전략 및 계획': 3, '트랙/상대 정보': 4, '감성/개인 표현': 5, '시스템/하드웨어 문제': 6, '데이터 피드백/비교': 7}\n"
     ]
    }
   ],
   "source": [
    "W_emb_cbow = cbow_model[\"W_embed\"]\n",
    "W_out_cbow = cbow_model[\"W_out\"]\n",
    "b_out_cbow = cbow_model[\"b_out\"]\n",
    "word2idx_cbow = cbow_model[\"word2idx\"]\n",
    "idx2label_cbow = cbow_model[\"idx2label\"]\n",
    "label2idx_cbow = {}\n",
    "for idx, label in idx2label_cbow.items():\n",
    "    label2idx_cbow[label] = idx\n"
   ]
  },
  {
   "cell_type": "code",
   "execution_count": null,
   "id": "2fab892c",
   "metadata": {},
   "outputs": [
    {
     "name": "stdout",
     "output_type": "stream",
     "text": [
      "{'감성/개인 표현': 0, '전략 및 계획': 1, '트랙/상대 정보': 2, '데이터 피드백/비교': 3, '차량 조작 지시': 4, '시스템/하드웨어 문제': 5, '타이어 관련': 6, '차량 상태 피드백': 7}\n"
     ]
    }
   ],
   "source": [
    "W_ngram = ngram_model[\"W\"]\n",
    "b_ngram = ngram_model[\"b\"]\n",
    "label2idx_ngram = ngram_model[\"label2idx\"]\n",
    "idx2label_ngram = ngram_model[\"idx2label\"]\n",
    "vocab_ngram = ngram_model[\"vocab\"]\n",
    "ngram_range = ngram_model[\"ngram_range\"]"
   ]
  },
  {
   "cell_type": "code",
   "execution_count": null,
   "id": "a83fb183",
   "metadata": {},
   "outputs": [],
   "source": [
    "def evaluate_model(X_test, y_test, W, b):\n",
    "    logits = np.dot(X_test, W) + b\n",
    "    probs = np.exp(logits) / np.sum(np.exp(logits), axis=1, keepdims=True)\n",
    "    preds = np.argmax(probs, axis=1)\n",
    "    accuracy = np.mean(preds == y_test)\n",
    "    return accuracy, preds\n"
   ]
  },
  {
   "cell_type": "code",
   "execution_count": null,
   "id": "b79edcd8",
   "metadata": {},
   "outputs": [],
   "source": [
    "def vectorize_cbow(texts, word2idx):\n",
    "    vocab_size = len(word2idx)\n",
    "    vectors = []\n",
    "    for text in texts:\n",
    "        tokens = text.lower().split()\n",
    "        vec = np.zeros(vocab_size)\n",
    "        for token in tokens:\n",
    "            if token in word2idx:\n",
    "                vec[word2idx[token]] += 1\n",
    "        if len(tokens) > 0:\n",
    "            vec /= len(tokens)\n",
    "        vectors.append(vec)\n",
    "    return np.array(vectors)\n"
   ]
  },
  {
   "cell_type": "code",
   "execution_count": 12,
   "id": "9b34830c",
   "metadata": {},
   "outputs": [],
   "source": [
    "def vectorize_ngram(texts, vocab, ngram_range):\n",
    "    vectors = []\n",
    "    for text in texts:\n",
    "        vec = np.zeros(len(vocab))\n",
    "        tokens = re.findall(r'\\b\\w+\\b', text.lower())\n",
    "        for n in range(ngram_range[0], ngram_range[1] + 1):\n",
    "            ngrams = [' '.join(tokens[i:i+n]) for i in range(len(tokens)-n+1)]\n",
    "            for ngram in ngrams:\n",
    "                if ngram in vocab:\n",
    "                    vec[vocab[ngram]] += 1\n",
    "        vectors.append(vec)\n",
    "    return np.array(vectors)"
   ]
  },
  {
   "cell_type": "code",
   "execution_count": null,
   "id": "87b02760",
   "metadata": {},
   "outputs": [],
   "source": [
    "\n",
    "test_texts = [\n",
    "    \"Push harder into turn 5.\",  # 차량 조작 지시\n",
    "    \"The tyres are overheating.\",  # 차량 상태 피드백\n",
    "    \"Switch to medium tyres.\",  # 타이어 관련\n",
    "    \"Box this lap for a tyre change.\",  # 전략 및 계획\n",
    "    \"The car ahead is slowing down.\",  # 트랙/상대 정보\n",
    "    \"What a fantastic race!\",  # 감성/개인 표현\n",
    "    \"The engine temperature is too high.\",  # 시스템/하드웨어 문제\n",
    "    \"We are losing 0.2 seconds in sector 3.\",  # 데이터 피드백/비교\n",
    "    \"Stay out, we are extending the stint.\",  # 전략 및 계획\n",
    "    \"The wind is picking up in turn 2.\",  # 트랙/상대 정보\n",
    "]\n",
    "\n",
    "test_labels = [\n",
    "    \"차량 조작 지시\", \n",
    "    \"차량 상태 피드백\",\n",
    "    \"타이어 관련\",\n",
    "    \"전략 및 계획\",\n",
    "    \"트랙/상대 정보\",\n",
    "    \"감성/개인 표현\",\n",
    "    \"시스템/하드웨어 문제\",\n",
    "    \"데이터 피드백/비교\",\n",
    "    \"전략 및 계획\",\n",
    "    \"트랙/상대 정보\",\n",
    "]"
   ]
  },
  {
   "cell_type": "code",
   "execution_count": 26,
   "id": "e391ca26",
   "metadata": {},
   "outputs": [],
   "source": [
    "X_test_cbow = vectorize_cbow(test_texts, word2idx_cbow)\n",
    "y_test_cbow = np.array([label2idx_cbow[label] for label in test_labels])\n",
    "\n",
    "X_test_ngram = vectorize_ngram(test_texts, vocab_ngram, ngram_range)\n",
    "y_test_ngram = np.array([label2idx_ngram[label] for label in test_labels])"
   ]
  },
  {
   "cell_type": "code",
   "execution_count": 29,
   "id": "25ac739a",
   "metadata": {},
   "outputs": [
    {
     "name": "stdout",
     "output_type": "stream",
     "text": [
      "CBOW acc: 0.4000\n",
      "N-gram acc: 0.4000\n"
     ]
    }
   ],
   "source": [
    "acc_cbow, preds_cbow = evaluate_model(X_test_cbow, y_test_cbow, np.dot(W_emb_cbow, W_out_cbow) + b_out_cbow, b_out_cbow, idx2label_cbow)\n",
    "print(f\"CBOW acc: {acc_cbow:.4f}\")\n",
    "\n",
    "acc_ngram, preds_ngram = evaluate_model(X_test_ngram, y_test_ngram, W_ngram, b_ngram, idx2label_ngram)\n",
    "print(f\"N-gram acc: {acc_ngram:.4f}\")"
   ]
  },
  {
   "cell_type": "code",
   "execution_count": 30,
   "id": "af44693f",
   "metadata": {},
   "outputs": [
    {
     "name": "stdout",
     "output_type": "stream",
     "text": [
      "Text: Push harder into turn 5.\n",
      "True Label: 차량 조작 지시\n",
      "CBOW Prediction: 차량 조작 지시\n",
      "N-gram Prediction: 차량 조작 지시\n",
      "--------------------------------------------------\n",
      "Text: The tyres are overheating.\n",
      "True Label: 차량 상태 피드백\n",
      "CBOW Prediction: 타이어 관련\n",
      "N-gram Prediction: 타이어 관련\n",
      "--------------------------------------------------\n",
      "Text: Switch to medium tyres.\n",
      "True Label: 타이어 관련\n",
      "CBOW Prediction: 타이어 관련\n",
      "N-gram Prediction: 타이어 관련\n",
      "--------------------------------------------------\n",
      "Text: Box this lap for a tyre change.\n",
      "True Label: 전략 및 계획\n",
      "CBOW Prediction: 차량 조작 지시\n",
      "N-gram Prediction: 전략 및 계획\n",
      "--------------------------------------------------\n",
      "Text: The car ahead is slowing down.\n",
      "True Label: 트랙/상대 정보\n",
      "CBOW Prediction: 트랙/상대 정보\n",
      "N-gram Prediction: 트랙/상대 정보\n",
      "--------------------------------------------------\n",
      "Text: What a fantastic race!\n",
      "True Label: 감성/개인 표현\n",
      "CBOW Prediction: 차량 조작 지시\n",
      "N-gram Prediction: 차량 상태 피드백\n",
      "--------------------------------------------------\n",
      "Text: The engine temperature is too high.\n",
      "True Label: 시스템/하드웨어 문제\n",
      "CBOW Prediction: 차량 상태 피드백\n",
      "N-gram Prediction: 차량 상태 피드백\n",
      "--------------------------------------------------\n",
      "Text: We are losing 0.2 seconds in sector 3.\n",
      "True Label: 데이터 피드백/비교\n",
      "CBOW Prediction: 전략 및 계획\n",
      "N-gram Prediction: 전략 및 계획\n",
      "--------------------------------------------------\n",
      "Text: Stay out, we are extending the stint.\n",
      "True Label: 전략 및 계획\n",
      "CBOW Prediction: 시스템/하드웨어 문제\n",
      "N-gram Prediction: 타이어 관련\n",
      "--------------------------------------------------\n",
      "Text: The wind is picking up in turn 2.\n",
      "True Label: 트랙/상대 정보\n",
      "CBOW Prediction: 트랙/상대 정보\n",
      "N-gram Prediction: 차량 상태 피드백\n",
      "--------------------------------------------------\n"
     ]
    }
   ],
   "source": [
    "# 打印预测结果对比\n",
    "for i, (text, true_label) in enumerate(zip(test_texts, test_labels)):\n",
    "    pred_cbow = idx2label_cbow[preds_cbow[i]]\n",
    "    pred_ngram = idx2label_ngram[preds_ngram[i]]\n",
    "    print(f\"Text: {text}\")\n",
    "    print(f\"True Label: {true_label}\")\n",
    "    print(f\"CBOW Prediction: {pred_cbow}\")\n",
    "    print(f\"N-gram Prediction: {pred_ngram}\")\n",
    "    print(\"-\" * 50)"
   ]
  },
  {
   "cell_type": "code",
   "execution_count": null,
   "id": "c8510f66",
   "metadata": {},
   "outputs": [],
   "source": []
  }
 ],
 "metadata": {
  "kernelspec": {
   "display_name": "aimath",
   "language": "python",
   "name": "python3"
  },
  "language_info": {
   "codemirror_mode": {
    "name": "ipython",
    "version": 3
   },
   "file_extension": ".py",
   "mimetype": "text/x-python",
   "name": "python",
   "nbconvert_exporter": "python",
   "pygments_lexer": "ipython3",
   "version": "3.11.8"
  }
 },
 "nbformat": 4,
 "nbformat_minor": 5
}
