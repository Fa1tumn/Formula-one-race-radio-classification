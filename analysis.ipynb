{
 "cells": [
  {
   "cell_type": "code",
   "execution_count": 1,
   "id": "9947f122",
   "metadata": {},
   "outputs": [],
   "source": [
    "import pickle"
   ]
  },
  {
   "cell_type": "code",
   "execution_count": 2,
   "id": "9dd62fc6",
   "metadata": {},
   "outputs": [],
   "source": [
    "with open(\"cbow_model.pkl\", \"rb\") as f:\n",
    "    cbow_model = pickle.load(f)\n",
    "with open(\"ngram_model.pkl\", \"rb\") as f:\n",
    "    ngram_model = pickle.load(f)"
   ]
  },
  {
   "cell_type": "code",
   "execution_count": 4,
   "id": "493eb4ba",
   "metadata": {},
   "outputs": [],
   "source": [
    "W_emb_cbow = cbow_model[\"W_embed\"]\n",
    "W_out_cbow = cbow_model[\"W_out\"]\n",
    "b_out_cbow = cbow_model[\"b_out\"]\n",
    "word2idx_cbow = cbow_model[\"word2idx\"]\n",
    "idx2label_cbow = cbow_model[\"idx2label\"]"
   ]
  },
  {
   "cell_type": "code",
   "execution_count": 6,
   "id": "2fab892c",
   "metadata": {},
   "outputs": [],
   "source": [
    "W_ngram = ngram_model[\"W\"]\n",
    "b_ngram = ngram_model[\"b\"]\n",
    "label2idx_ngram = ngram_model[\"label2idx\"]\n",
    "idx2label_ngram = ngram_model[\"idx2label\"]\n",
    "vocab_ngram = ngram_model[\"vocab\"]\n",
    "ngram_range = ngram_model[\"ngram_range\"]"
   ]
  }
 ],
 "metadata": {
  "kernelspec": {
   "display_name": "aimath",
   "language": "python",
   "name": "python3"
  },
  "language_info": {
   "codemirror_mode": {
    "name": "ipython",
    "version": 3
   },
   "file_extension": ".py",
   "mimetype": "text/x-python",
   "name": "python",
   "nbconvert_exporter": "python",
   "pygments_lexer": "ipython3",
   "version": "3.11.8"
  }
 },
 "nbformat": 4,
 "nbformat_minor": 5
}
