{
 "cells": [
  {
   "cell_type": "code",
   "execution_count": 9,
   "id": "76cae504",
   "metadata": {},
   "outputs": [],
   "source": [
    "import numpy as np\n",
    "from collections import defaultdict\n",
    "import matplotlib.pyplot as plt\n",
    "import torch"
   ]
  },
  {
   "cell_type": "code",
   "execution_count": 4,
   "id": "0278cf6d",
   "metadata": {},
   "outputs": [],
   "source": [
    "# 1. 데이터셋 (간단 예시)\n",
    "texts = [\n",
    "    \"Box box box\",\n",
    "    \"My tyres are gone\",\n",
    "    \"Tell him to get out\",\n",
    "    \"We need to push\",\n",
    "    \"Engine is overheating\",\n",
    "    \"Good job keep pushing\",\n",
    "    \"I'm losing power\",\n",
    "    \"Switching to plan B\",\n",
    "    \"Push now push now\",\n",
    "    \"Let me race please\"\n",
    "]\n",
    "labels = [\n",
    "    \"진입 명령\", \"차량 상태\", \"불만/요청\", \"전략/전술\", \"차량 상태\",\n",
    "    \"격려\", \"차량 상태\", \"전략/전술\", \"전략/전술\", \"불만/요청\"\n",
    "]"
   ]
  },
  {
   "cell_type": "code",
   "execution_count": 5,
   "id": "0243d413",
   "metadata": {},
   "outputs": [],
   "source": [
    "tokenized = [text.lower().split() for text in texts]\n",
    "word2idx = {}\n",
    "idx2word = {}\n",
    "idx = 0\n",
    "for sentence in tokenized:\n",
    "    for word in sentence:\n",
    "        if word not in word2idx:\n",
    "            word2idx[word] = idx\n",
    "            idx2word[idx] = word\n",
    "            idx += 1\n",
    "vocab_size = len(word2idx)"
   ]
  },
  {
   "cell_type": "code",
   "execution_count": 6,
   "id": "fa2ac4e2",
   "metadata": {},
   "outputs": [],
   "source": [
    "label2idx = {\n",
    "    \"진입 명령\": 0,\n",
    "    \"차량 상태\": 1,\n",
    "    \"불만/요청\": 2,\n",
    "    \"전략/전술\": 3,\n",
    "    \"격려\": 4\n",
    "}\n",
    "idx2label = {v: k for k, v in label2idx.items()}"
   ]
  },
  {
   "cell_type": "code",
   "execution_count": 7,
   "id": "9ec311ef",
   "metadata": {},
   "outputs": [],
   "source": [
    "X_data = []\n",
    "y_data = []\n",
    "\n",
    "for sentence, label in zip(tokenized, labels):\n",
    "    context_vec = np.zeros(vocab_size)\n",
    "    for word in sentence:\n",
    "        context_vec[word2idx[word]] += 1\n",
    "    X_data.append(context_vec / len(sentence))\n",
    "    y_data.append(label)\n",
    "\n",
    "X = np.array(X_data)\n",
    "y = [label2idx[label] for label in labels]\n",
    "num_classes = len(set(y))"
   ]
  },
  {
   "cell_type": "code",
   "execution_count": 8,
   "id": "21221b24",
   "metadata": {},
   "outputs": [],
   "source": [
    "embedding_dim = 16\n",
    "W_embed = np.random.randn(vocab_size, embedding_dim) * 0.01  # 단어 임베딩\n",
    "W_out = np.random.randn(embedding_dim, num_classes) * 0.01   # 출력 가중치\n",
    "b_out = np.zeros((1, num_classes))\n",
    "learning_rate = 0.1"
   ]
  },
  {
   "cell_type": "code",
   "execution_count": 10,
   "id": "f8bcaed2",
   "metadata": {},
   "outputs": [],
   "source": [
    "def softmax(z):\n",
    "    exp_z = np.exp(z - np.max(z, axis=1, keepdims=True))\n",
    "    return exp_z / np.sum(exp_z, axis=1, keepdims=True)\n",
    "\n",
    "def cross_entropy(probs, y_true):\n",
    "    batch_size = probs.shape[0]\n",
    "    log_probs = torch.log(probs + 1e-9)  # 防止 log(0)\n",
    "    loss = -log_probs[range(batch_size), y_true].mean()\n",
    "    return loss"
   ]
  }
 ],
 "metadata": {
  "kernelspec": {
   "display_name": "aimath",
   "language": "python",
   "name": "python3"
  },
  "language_info": {
   "codemirror_mode": {
    "name": "ipython",
    "version": 3
   },
   "file_extension": ".py",
   "mimetype": "text/x-python",
   "name": "python",
   "nbconvert_exporter": "python",
   "pygments_lexer": "ipython3",
   "version": "3.11.8"
  }
 },
 "nbformat": 4,
 "nbformat_minor": 5
}
