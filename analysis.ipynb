{
 "cells": [
  {
   "cell_type": "code",
   "execution_count": 51,
   "id": "9947f122",
   "metadata": {},
   "outputs": [],
   "source": [
    "import pickle\n",
    "import matplotlib.pyplot as plt\n",
    "import numpy as np\n",
    "import re\n",
    "import pandas as pd"
   ]
  },
  {
   "cell_type": "code",
   "execution_count": 52,
   "id": "9dd62fc6",
   "metadata": {},
   "outputs": [],
   "source": [
    "with open(\"cbow_model.pkl\", \"rb\") as f:\n",
    "    cbow_model = pickle.load(f)\n",
    "with open(\"ngram_model.pkl\", \"rb\") as f:\n",
    "    ngram_model = pickle.load(f)"
   ]
  },
  {
   "cell_type": "code",
   "execution_count": 53,
   "id": "493eb4ba",
   "metadata": {},
   "outputs": [],
   "source": [
    "W_emb_cbow = cbow_model[\"W_embed\"]\n",
    "W_out_cbow = cbow_model[\"W_out\"]\n",
    "b_out_cbow = cbow_model[\"b_out\"]\n",
    "word2idx_cbow = cbow_model[\"word2idx\"]\n",
    "idx2label_cbow = cbow_model[\"idx2label\"]\n",
    "label2idx_cbow = {}\n",
    "for idx, label in idx2label_cbow.items():\n",
    "    label2idx_cbow[label] = idx\n"
   ]
  },
  {
   "cell_type": "code",
   "execution_count": 54,
   "id": "2fab892c",
   "metadata": {},
   "outputs": [],
   "source": [
    "W_ngram = ngram_model[\"W\"]\n",
    "b_ngram = ngram_model[\"b\"]\n",
    "label2idx_ngram = ngram_model[\"label2idx\"]\n",
    "idx2label_ngram = ngram_model[\"idx2label\"]\n",
    "vocab_ngram = ngram_model[\"vocab\"]\n",
    "ngram_range = ngram_model[\"ngram_range\"]"
   ]
  },
  {
   "cell_type": "code",
   "execution_count": 55,
   "id": "a83fb183",
   "metadata": {},
   "outputs": [],
   "source": [
    "def evaluate_model(X_test, y_test, W, b):\n",
    "    logits = np.dot(X_test, W) + b\n",
    "    probs = np.exp(logits) / np.sum(np.exp(logits), axis=1, keepdims=True)\n",
    "    preds = np.argmax(probs, axis=1)\n",
    "    accuracy = np.mean(preds == y_test)\n",
    "    return accuracy, preds\n"
   ]
  },
  {
   "cell_type": "code",
   "execution_count": 56,
   "id": "b79edcd8",
   "metadata": {},
   "outputs": [],
   "source": [
    "def vectorize_cbow(texts, word2idx):\n",
    "    vocab_size = len(word2idx)\n",
    "    vectors = []\n",
    "    for text in texts:\n",
    "        tokens = text.lower().split()\n",
    "        vec = np.zeros(vocab_size)\n",
    "        for token in tokens:\n",
    "            if token in word2idx:\n",
    "                vec[word2idx[token]] += 1\n",
    "        if len(tokens) > 0:\n",
    "            vec /= len(tokens)\n",
    "        vectors.append(vec)\n",
    "    return np.array(vectors)\n"
   ]
  },
  {
   "cell_type": "code",
   "execution_count": 57,
   "id": "9b34830c",
   "metadata": {},
   "outputs": [],
   "source": [
    "def vectorize_ngram(texts, vocab, ngram_range):\n",
    "    vectors = []\n",
    "    for text in texts:\n",
    "        vec = np.zeros(len(vocab))\n",
    "        tokens = re.findall(r'\\b\\w+\\b', text.lower())\n",
    "        for n in range(ngram_range[0], ngram_range[1] + 1):\n",
    "            ngrams = [' '.join(tokens[i:i+n]) for i in range(len(tokens)-n+1)]\n",
    "            for ngram in ngrams:\n",
    "                if ngram in vocab:\n",
    "                    vec[vocab[ngram]] += 1\n",
    "        vectors.append(vec)\n",
    "    return np.array(vectors)"
   ]
  },
  {
   "cell_type": "code",
   "execution_count": 58,
   "id": "87b02760",
   "metadata": {},
   "outputs": [],
   "source": [
    "\n",
    "test_texts = [\n",
    "    \"Push harder into turn 5.\",  # 차량 조작 지시\n",
    "    \"The tyres are overheating.\",  # 차량 상태 피드백\n",
    "    \"Switch to medium tyres.\",  # 타이어 관련\n",
    "    \"Box this lap for a tyre change.\",  # 전략 및 계획\n",
    "    \"The car ahead is slowing down.\",  # 트랙/상대 정보\n",
    "    \"What a fantastic race!\",  # 감성/개인 표현\n",
    "    \"The engine temperature is too high.\",  # 시스템/하드웨어 문제\n",
    "    \"We are losing 0.2 seconds in sector 3.\",  # 데이터 피드백/비교\n",
    "    \"Stay out, we are extending the stint.\",  # 전략 및 계획\n",
    "    \"The wind is picking up in turn 2.\",  # 트랙/상대 정보\n",
    "]\n",
    "\n",
    "test_labels = [\n",
    "    \"차량 조작 지시\", \n",
    "    \"차량 상태 피드백\",\n",
    "    \"타이어 관련\",\n",
    "    \"전략 및 계획\",\n",
    "    \"트랙/상대 정보\",\n",
    "    \"감성/개인 표현\",\n",
    "    \"시스템/하드웨어 문제\",\n",
    "    \"데이터 피드백/비교\",\n",
    "    \"전략 및 계획\",\n",
    "    \"트랙/상대 정보\",\n",
    "]"
   ]
  },
  {
   "cell_type": "code",
   "execution_count": null,
   "id": "29da67e5",
   "metadata": {},
   "outputs": [],
   "source": [
    "data = pd.read_csv(\"data.csv\")\n",
    "train_texts = data[\"Message\"].dropna().tolist()\n",
    "\n",
    "def build_cbow_vocab(texts):\n",
    "    vocab = set()\n",
    "    for text in texts:\n",
    "        tokens = text.lower().split()\n",
    "        vocab.update(tokens)\n",
    "    return vocab\n",
    "\n",
    "cbow_vocab = build_cbow_vocab(train_texts)\n",
    "\n",
    "def build_ngram_vocab(texts, ngram_range=(1, 2)):\n",
    "    vocab = set()\n",
    "    for text in texts:\n",
    "        tokens = re.findall(r'\\b\\w+\\b', text.lower())\n",
    "        for n in range(ngram_range[0], ngram_range[1] + 1):\n",
    "            ngrams = [' '.join(tokens[i:i+n]) for i in range(len(tokens)-n+1)]\n",
    "            vocab.update(ngrams)\n",
    "    return vocab\n",
    "\n",
    "ngram_vocab = build_ngram_vocab(train_texts, ngram_range=(1, 2))"
   ]
  },
  {
   "cell_type": "code",
   "execution_count": null,
   "id": "87ec39e6",
   "metadata": {},
   "outputs": [],
   "source": [
    "def calculate_cbow_coverage(texts, vocab):\n",
    "\n",
    "    coverage = []\n",
    "    for text in texts:\n",
    "        tokens = text.lower().split()\n",
    "        covered_tokens = [token for token in tokens if token in vocab]\n",
    "        ratio = len(covered_tokens) / len(tokens) if len(tokens) > 0 else 0\n",
    "        coverage.append(ratio)\n",
    "    return coverage\n",
    "def calculate_ngram_coverage(texts, vocab, ngram_range=(1, 2)):\n",
    "\n",
    "    coverage = []\n",
    "    for text in texts:\n",
    "        tokens = re.findall(r'\\b\\w+\\b', text.lower())\n",
    "        total_ngrams = 0\n",
    "        covered_ngrams = 0\n",
    "        for n in range(ngram_range[0], ngram_range[1] + 1):\n",
    "            ngrams = [' '.join(tokens[i:i+n]) for i in range(len(tokens)-n+1)]\n",
    "            total_ngrams += len(ngrams)\n",
    "            covered_ngrams += sum(1 for ngram in ngrams if ngram in vocab)\n",
    "        ratio = covered_ngrams / total_ngrams if total_ngrams > 0 else 0\n",
    "        coverage.append(ratio)\n",
    "    return coverage"
   ]
  },
  {
   "cell_type": "code",
   "execution_count": 61,
   "id": "5034e426",
   "metadata": {},
   "outputs": [
    {
     "name": "stdout",
     "output_type": "stream",
     "text": [
      "CBOW: [0.4, 1.0, 0.75, 0.7142857142857143, 0.6666666666666666, 0.5, 0.6666666666666666, 0.5, 0.42857142857142855, 0.75]\n",
      "N-gram: [0.4444444444444444, 0.7142857142857143, 0.5714285714285714, 0.6153846153846154, 0.6363636363636364, 0.5714285714285714, 0.36363636363636365, 0.4117647058823529, 0.3076923076923077, 0.6666666666666666]\n"
     ]
    }
   ],
   "source": [
    "cbow_coverage = calculate_cbow_coverage(test_texts, cbow_vocab)\n",
    "print(\"CBOW:\", cbow_coverage)\n",
    "ngram_coverage = calculate_ngram_coverage(test_texts, ngram_vocab, ngram_range=(1, 2))\n",
    "print(\"N-gram:\", ngram_coverage)"
   ]
  },
  {
   "cell_type": "code",
   "execution_count": null,
   "id": "fe65519b",
   "metadata": {},
   "outputs": [
    {
     "data": {
      "image/png": "[encoded data removed]",
      "text/plain": [
       "<Figure size 640x480 with 1 Axes>"
      ]
     },
     "metadata": {},
     "output_type": "display_data"
    }
   ],
   "source": [
    "x = np.arange(len(test_texts))\n",
    "width = 0.35 \n",
    "\n",
    "fig, ax = plt.subplots()\n",
    "cbow_bars = ax.bar(x - width/2, cbow_coverage, width, label='CBOW')\n",
    "ngram_bars = ax.bar(x + width/2, ngram_coverage, width, label='N-gram')\n",
    "\n",
    "\n",
    "ax.set_xlabel('Test Samples')\n",
    "ax.set_ylabel('Coverage Ratio')\n",
    "ax.set_title('Coverage Comparison Between CBOW and N-gram')\n",
    "ax.set_xticks(x)\n",
    "ax.set_xticklabels([f\"Sample {i+1}\" for i in range(len(test_texts))], rotation=45)\n",
    "ax.legend()\n",
    "\n",
    "plt.tight_layout()\n",
    "plt.show()"
   ]
  },
  {
   "cell_type": "code",
   "execution_count": 63,
   "id": "7377148c",
   "metadata": {},
   "outputs": [
    {
     "name": "stdout",
     "output_type": "stream",
     "text": [
      "Text: Push harder into turn 5.\n",
      "True Label: 차량 조작 지시\n",
      "CBOW Coverage: 0.40\n",
      "N-gram Coverage: 0.44\n",
      "--------------------------------------------------\n",
      "Text: The tyres are overheating.\n",
      "True Label: 차량 상태 피드백\n",
      "CBOW Coverage: 1.00\n",
      "N-gram Coverage: 0.71\n",
      "--------------------------------------------------\n",
      "Text: Switch to medium tyres.\n",
      "True Label: 타이어 관련\n",
      "CBOW Coverage: 0.75\n",
      "N-gram Coverage: 0.57\n",
      "--------------------------------------------------\n",
      "Text: Box this lap for a tyre change.\n",
      "True Label: 전략 및 계획\n",
      "CBOW Coverage: 0.71\n",
      "N-gram Coverage: 0.62\n",
      "--------------------------------------------------\n",
      "Text: The car ahead is slowing down.\n",
      "True Label: 트랙/상대 정보\n",
      "CBOW Coverage: 0.67\n",
      "N-gram Coverage: 0.64\n",
      "--------------------------------------------------\n",
      "Text: What a fantastic race!\n",
      "True Label: 감성/개인 표현\n",
      "CBOW Coverage: 0.50\n",
      "N-gram Coverage: 0.57\n",
      "--------------------------------------------------\n",
      "Text: The engine temperature is too high.\n",
      "True Label: 시스템/하드웨어 문제\n",
      "CBOW Coverage: 0.67\n",
      "N-gram Coverage: 0.36\n",
      "--------------------------------------------------\n",
      "Text: We are losing 0.2 seconds in sector 3.\n",
      "True Label: 데이터 피드백/비교\n",
      "CBOW Coverage: 0.50\n",
      "N-gram Coverage: 0.41\n",
      "--------------------------------------------------\n",
      "Text: Stay out, we are extending the stint.\n",
      "True Label: 전략 및 계획\n",
      "CBOW Coverage: 0.43\n",
      "N-gram Coverage: 0.31\n",
      "--------------------------------------------------\n",
      "Text: The wind is picking up in turn 2.\n",
      "True Label: 트랙/상대 정보\n",
      "CBOW Coverage: 0.75\n",
      "N-gram Coverage: 0.67\n",
      "--------------------------------------------------\n"
     ]
    }
   ],
   "source": [
    "for i, text in enumerate(test_texts):\n",
    "    print(f\"Text: {text}\")\n",
    "    print(f\"True Label: {test_labels[i]}\")\n",
    "    print(f\"CBOW Coverage: {cbow_coverage[i]:.2f}\")\n",
    "    print(f\"N-gram Coverage: {ngram_coverage[i]:.2f}\")\n",
    "    print(\"-\" * 50)"
   ]
  },
  {
   "cell_type": "code",
   "execution_count": 64,
   "id": "e391ca26",
   "metadata": {},
   "outputs": [],
   "source": [
    "X_test_cbow = vectorize_cbow(test_texts, word2idx_cbow)\n",
    "y_test_cbow = np.array([label2idx_cbow[label] for label in test_labels])\n",
    "\n",
    "X_test_ngram = vectorize_ngram(test_texts, vocab_ngram, ngram_range)\n",
    "y_test_ngram = np.array([label2idx_ngram[label] for label in test_labels])"
   ]
  },
  {
   "cell_type": "code",
   "execution_count": 65,
   "id": "25ac739a",
   "metadata": {},
   "outputs": [
    {
     "name": "stdout",
     "output_type": "stream",
     "text": [
      "CBOW acc: 0.4000\n",
      "N-gram acc: 0.4000\n"
     ]
    }
   ],
   "source": [
    "acc_cbow, preds_cbow = evaluate_model(X_test_cbow, y_test_cbow, np.dot(W_emb_cbow, W_out_cbow) + b_out_cbow, b_out_cbow)\n",
    "print(f\"CBOW acc: {acc_cbow:.4f}\")\n",
    "\n",
    "acc_ngram, preds_ngram = evaluate_model(X_test_ngram, y_test_ngram, W_ngram, b_ngram)\n",
    "print(f\"N-gram acc: {acc_ngram:.4f}\")"
   ]
  },
  {
   "cell_type": "code",
   "execution_count": 66,
   "id": "af44693f",
   "metadata": {},
   "outputs": [
    {
     "name": "stdout",
     "output_type": "stream",
     "text": [
      "Text: Push harder into turn 5.\n",
      "True Label: 차량 조작 지시\n",
      "CBOW Prediction: 차량 조작 지시\n",
      "N-gram Prediction: 차량 조작 지시\n",
      "--------------------------------------------------\n",
      "Text: The tyres are overheating.\n",
      "True Label: 차량 상태 피드백\n",
      "CBOW Prediction: 타이어 관련\n",
      "N-gram Prediction: 타이어 관련\n",
      "--------------------------------------------------\n",
      "Text: Switch to medium tyres.\n",
      "True Label: 타이어 관련\n",
      "CBOW Prediction: 타이어 관련\n",
      "N-gram Prediction: 타이어 관련\n",
      "--------------------------------------------------\n",
      "Text: Box this lap for a tyre change.\n",
      "True Label: 전략 및 계획\n",
      "CBOW Prediction: 차량 조작 지시\n",
      "N-gram Prediction: 전략 및 계획\n",
      "--------------------------------------------------\n",
      "Text: The car ahead is slowing down.\n",
      "True Label: 트랙/상대 정보\n",
      "CBOW Prediction: 트랙/상대 정보\n",
      "N-gram Prediction: 트랙/상대 정보\n",
      "--------------------------------------------------\n",
      "Text: What a fantastic race!\n",
      "True Label: 감성/개인 표현\n",
      "CBOW Prediction: 차량 조작 지시\n",
      "N-gram Prediction: 차량 상태 피드백\n",
      "--------------------------------------------------\n",
      "Text: The engine temperature is too high.\n",
      "True Label: 시스템/하드웨어 문제\n",
      "CBOW Prediction: 차량 상태 피드백\n",
      "N-gram Prediction: 차량 상태 피드백\n",
      "--------------------------------------------------\n",
      "Text: We are losing 0.2 seconds in sector 3.\n",
      "True Label: 데이터 피드백/비교\n",
      "CBOW Prediction: 전략 및 계획\n",
      "N-gram Prediction: 전략 및 계획\n",
      "--------------------------------------------------\n",
      "Text: Stay out, we are extending the stint.\n",
      "True Label: 전략 및 계획\n",
      "CBOW Prediction: 시스템/하드웨어 문제\n",
      "N-gram Prediction: 타이어 관련\n",
      "--------------------------------------------------\n",
      "Text: The wind is picking up in turn 2.\n",
      "True Label: 트랙/상대 정보\n",
      "CBOW Prediction: 트랙/상대 정보\n",
      "N-gram Prediction: 차량 상태 피드백\n",
      "--------------------------------------------------\n"
     ]
    }
   ],
   "source": [
    "# 打印预测结果对比\n",
    "for i, (text, true_label) in enumerate(zip(test_texts, test_labels)):\n",
    "    pred_cbow = idx2label_cbow[preds_cbow[i]]\n",
    "    pred_ngram = idx2label_ngram[preds_ngram[i]]\n",
    "    print(f\"Text: {text}\")\n",
    "    print(f\"True Label: {true_label}\")\n",
    "    print(f\"CBOW Prediction: {pred_cbow}\")\n",
    "    print(f\"N-gram Prediction: {pred_ngram}\")\n",
    "    print(\"-\" * 50)"
   ]
  },
  {
   "cell_type": "code",
   "execution_count": 67,
   "id": "c8510f66",
   "metadata": {},
   "outputs": [
    {
     "data": {
      "image/png": "[encoded data removed]",
      "text/plain": [
       "<Figure size 640x480 with 1 Axes>"
      ]
     },
     "metadata": {},
     "output_type": "display_data"
    }
   ],
   "source": [
    "models = [\"CBOW\", \"N-gram\"]\n",
    "accuracies = [acc_cbow, acc_ngram]\n",
    "\n",
    "plt.bar(models, accuracies, color=[\"blue\", \"green\"])\n",
    "plt.title(\"Model Performance Comparison\")\n",
    "plt.ylabel(\"Accuracy\")\n",
    "plt.ylim(0, 1)\n",
    "plt.show()"
   ]
  }
 ],
 "metadata": {
  "kernelspec": {
   "display_name": "aimath",
   "language": "python",
   "name": "python3"
  },
  "language_info": {
   "codemirror_mode": {
    "name": "ipython",
    "version": 3
   },
   "file_extension": ".py",
   "mimetype": "text/x-python",
   "name": "python",
   "nbconvert_exporter": "python",
   "pygments_lexer": "ipython3",
   "version": "3.11.8"
  }
 },
 "nbformat": 4,
 "nbformat_minor": 5
}
